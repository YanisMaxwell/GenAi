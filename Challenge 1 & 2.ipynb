{
 "cells": [
  {
   "cell_type": "code",
   "execution_count": null,
   "id": "9be77d77",
   "metadata": {},
   "outputs": [
    {
     "name": "stdout",
     "output_type": "stream",
     "text": [
      "[5, 10, 15, 20, 25, 30]\n"
     ]
    }
   ],
   "source": [
    "# Je demande à l'utilisateur de saisir un nombre et une longueur\n",
    "number = int(input(\"Entrez un nombre : \"))\n",
    "length = int(input(\"Entrez une longueur : \"))\n",
    "\n",
    "# Je crée la liste des Multiples \n",
    "multiples = [number * i for i in range(1, length + 1)]\n",
    "\n",
    "# J'affiche le résultat \n",
    "print(multiples)\n"
   ]
  },
  {
   "cell_type": "code",
   "execution_count": 1,
   "id": "51884410",
   "metadata": {},
   "outputs": [
    {
     "name": "stdout",
     "output_type": "stream",
     "text": [
      " Mot sans doublons : poire\n"
     ]
    }
   ],
   "source": [
    "# Je demande un mot à l'utilisateur\n",
    "word = input(\"Entrez un mot : \")\n",
    "\n",
    "# Je vais inialiser une nouvelle chaîne vide pour stocker ma variable\n",
    "new_word = \"\"\n",
    "\n",
    "# Je parcours chaque lettre du mot\n",
    "for i in range(len(word)):\n",
    "    # Si c'est la première lettre OU elle est différente de la lettre précédente\n",
    "    if i == 0 or word[i] != word[i - 1]:\n",
    "        new_word += word[i]  # on l'ajoute au résultat\n",
    "\n",
    "# Afficher le mot proprement\n",
    "print(\" Mot sans doublons :\", new_word)"
   ]
  }
 ],
 "metadata": {
  "kernelspec": {
   "display_name": "Python 3",
   "language": "python",
   "name": "python3"
  },
  "language_info": {
   "codemirror_mode": {
    "name": "ipython",
    "version": 3
   },
   "file_extension": ".py",
   "mimetype": "text/x-python",
   "name": "python",
   "nbconvert_exporter": "python",
   "pygments_lexer": "ipython3",
   "version": "3.13.2"
  }
 },
 "nbformat": 4,
 "nbformat_minor": 5
}
