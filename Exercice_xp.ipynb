{
 "cells": [
  {
   "cell_type": "markdown",
   "id": "24bac154",
   "metadata": {},
   "source": [
    "Exercice 1"
   ]
  },
  {
   "cell_type": "code",
   "execution_count": 1,
   "id": "4177697a",
   "metadata": {},
   "outputs": [
    {
     "name": "stdout",
     "output_type": "stream",
     "text": [
      "{'Ten': 10, 'Twenty': 20, 'Thirty': 30}\n"
     ]
    }
   ],
   "source": [
    "keys = ['Ten', 'Twenty', 'Thirty']\n",
    "values = [10, 20, 30]\n",
    "\n",
    "res = dict(zip(keys, values))\n",
    "print(res)"
   ]
  },
  {
   "cell_type": "markdown",
   "id": "bc6fc36b",
   "metadata": {},
   "source": [
    "Exercice 2"
   ]
  },
  {
   "cell_type": "code",
   "execution_count": 16,
   "id": "77cc8e11",
   "metadata": {},
   "outputs": [
    {
     "ename": "TypeError",
     "evalue": "'builtin_function_or_method' object is not iterable",
     "output_type": "error",
     "traceback": [
      "\u001b[31m---------------------------------------------------------------------------\u001b[39m",
      "\u001b[31mTypeError\u001b[39m                                 Traceback (most recent call last)",
      "\u001b[36mCell\u001b[39m\u001b[36m \u001b[39m\u001b[32mIn[16]\u001b[39m\u001b[32m, line 9\u001b[39m\n\u001b[32m      4\u001b[39m total_cost = \u001b[32m0\u001b[39m \n\u001b[32m      7\u001b[39m \u001b[38;5;66;03m# je parcours le dictionnaire family \u001b[39;00m\n\u001b[32m----> \u001b[39m\u001b[32m9\u001b[39m \u001b[38;5;28;43;01mfor\u001b[39;49;00m\u001b[43m \u001b[49m\u001b[43mnom\u001b[49m\u001b[43m,\u001b[49m\u001b[43m \u001b[49m\u001b[43mage\u001b[49m\u001b[43m \u001b[49m\u001b[38;5;129;43;01min\u001b[39;49;00m\u001b[43m \u001b[49m\u001b[43mfamily\u001b[49m\u001b[43m.\u001b[49m\u001b[43mitems\u001b[49m\u001b[43m:\u001b[49m\u001b[43m \u001b[49m\n\u001b[32m     10\u001b[39m \u001b[43m    \u001b[49m\u001b[38;5;28;43;01mif\u001b[39;49;00m\u001b[43m \u001b[49m\u001b[43mage\u001b[49m\u001b[43m \u001b[49m\u001b[43m<\u001b[49m\u001b[43m \u001b[49m\u001b[32;43m3\u001b[39;49m\u001b[43m:\u001b[49m\n\u001b[32m     11\u001b[39m \u001b[43m        \u001b[49m\u001b[43mprix_billet\u001b[49m\u001b[43m \u001b[49m\u001b[43m==\u001b[49m\u001b[43m \u001b[49m\u001b[32;43m0\u001b[39;49m\n",
      "\u001b[31mTypeError\u001b[39m: 'builtin_function_or_method' object is not iterable"
     ]
    }
   ],
   "source": [
    "family = {\"rick\": 43, 'beth': 13, 'morty': 5, 'summer': 8}\n",
    "\n",
    "# J'initialise le cout total \n",
    "total_cost = 0 \n",
    "\n",
    "\n",
    "# je parcours le dictionnaire family \n",
    "\n",
    "for nom, age in family.items: \n",
    "    if age < 3:\n",
    "        prix_billet == 0\n",
    "        \n",
    "    elif 3 <= age <= 12:\n",
    "        prix_billet = 10\n",
    "    else:\n",
    "        prix_billet = 15\n",
    "  \n",
    "        \n",
    "\n",
    "# J'ajoute le prix total au prix du billet\n",
    "total_cost += prix_billet\n",
    "print(f\"{nom} pays: ${prix_billet}\")\n",
    "\n",
    "print(f\"Coût total: ${prix_billet}\")\n",
    "    \n",
    "\n",
    "        \n",
    "\n"
   ]
  },
  {
   "cell_type": "markdown",
   "id": "ef0c8c94",
   "metadata": {},
   "source": [
    "Exercice 3 "
   ]
  },
  {
   "cell_type": "code",
   "execution_count": null,
   "id": "3b306fea",
   "metadata": {},
   "outputs": [
    {
     "name": "stdout",
     "output_type": "stream",
     "text": [
      "Zara's clients include men, women, children, home.\n",
      "The last international competitor is: Desigual.\n",
      "The major colors in the US are: pink, green.\n",
      "The number of keys in the dictionary is: 7.\n",
      "All keys in the dictionary: ['name', 'creator_name', 'type_of_clothes', 'international_competitors', 'number_stores', 'major_color', 'country_creation']\n"
     ]
    }
   ],
   "source": [
    "\n",
    "brand = {\n",
    "    \"name\": \"Zara\",\n",
    "    \"creation_date\": 1975,\n",
    "    \"creator_name\": \"Amancio Ortega Gaona\",\n",
    "    \"type_of_clothes\": [\"men\", \"women\", \"children\", \"home\"],\n",
    "    \"international_competitors\": [\"Gap\", \"H&M\", \"Benetton\"],\n",
    "    \"number_stores\": 7000,\n",
    "    \"major_color\": {\n",
    "        \"France\": \"blue\",\n",
    "        \"Spain\": \"red\",\n",
    "        \"US\": [\"pink\", \"green\"]\n",
    "    }\n",
    "}\n",
    "\n",
    "brand[\"number_stores\"] = 2\n",
    "\n",
    " # Print a sentence describing Zara’s clients using the type_of_clothes key.\n",
    "print(f\"Zara's clients include {', '.join(brand['type_of_clothes'])}.\")\n",
    "\n",
    "# Add a new key country_creation with the value Spain.\n",
    "brand[\"country_creation\"] = \"Spain\"\n",
    "\n",
    "# Check if international_competitors exists and, if so, add “Desigual” to the list.\n",
    "if \"international_competitors\" in brand:\n",
    "    brand[\"international_competitors\"].append(\"Desigual\")\n",
    "\n",
    "#  Delete the creation_date key.\n",
    "brand.pop(\"creation_date\")\n",
    "\n",
    "# Print the last item in international_competitors \n",
    "print(f\"The last international competitor is: {brand['international_competitors'][-1]}.\")\n",
    "\n",
    "# Print the major colors in the US.\n",
    "\n",
    "print(f\"The major colors in the US are: {', '.join(brand['major_color']['US'])}.\")\n",
    "\n",
    "# Print the number of keys in the dictionary.\n",
    "print(f\"The number of keys in the dictionary is: {len(brand)}.\")\n",
    "\n",
    "# Print all keys of the dictionary.\n",
    "print(\"All keys in the dictionary:\", list(brand.keys()))\n",
    "\n"
   ]
  },
  {
   "cell_type": "markdown",
   "id": "3555e27b",
   "metadata": {},
   "source": [
    "Exercie 4"
   ]
  },
  {
   "cell_type": "code",
   "execution_count": 23,
   "id": "b3f1735b",
   "metadata": {},
   "outputs": [
    {
     "name": "stdout",
     "output_type": "stream",
     "text": [
      " Reykjavik is in Iceland \n",
      " Paris is in Unknown \n"
     ]
    }
   ],
   "source": [
    "def describe_city(city, country=\"Unknown\"):\n",
    "    \n",
    "\n",
    "     print(f\" {city} is in {country} \")\n",
    "    \n",
    "    \n",
    "\n",
    "describe_city(\"Reykjavik\", \"Iceland\")\n",
    "describe_city(\"Paris\")\n",
    "\n",
    "    "
   ]
  },
  {
   "cell_type": "markdown",
   "id": "0fc9caff",
   "metadata": {},
   "source": [
    "Exercice 5"
   ]
  },
  {
   "cell_type": "code",
   "execution_count": 37,
   "id": "8e18d9af",
   "metadata": {},
   "outputs": [
    {
     "name": "stdout",
     "output_type": "stream",
     "text": [
      "Fail! Your number: 65, Random number: 31\n"
     ]
    }
   ],
   "source": [
    "import random \n",
    "\n",
    "def comparaison_random_number(number):\n",
    "    \n",
    "    random_number = random.randint(1, 100)\n",
    "    \n",
    "    if number == random_number:\n",
    "        print(\"Success! The numbers match.\")\n",
    "    else:\n",
    "        print(f\"Fail! Your number: {number}, Random number: {random_number}\")\n",
    "\n",
    "comparaison_random_number(65)\n"
   ]
  },
  {
   "cell_type": "markdown",
   "id": "a6d4a977",
   "metadata": {},
   "source": [
    "Exercice 6"
   ]
  },
  {
   "cell_type": "code",
   "execution_count": 34,
   "id": "c48b459b",
   "metadata": {},
   "outputs": [
    {
     "name": "stdout",
     "output_type": "stream",
     "text": [
      "The size of the shirt is large and the text is 'I love Python'.\n",
      "The size of the shirt is large and the text is 'I love Python'.\n",
      "The size of the shirt is medium and the text is 'I love Python'.\n",
      "The size of the shirt is small and the text is 'Custom message'.\n",
      "The size of the shirt is small and the text is 'Hello!'.\n"
     ]
    }
   ],
   "source": [
    "\n",
    "# Je definis la fonction \n",
    "def make_shirt(size, text):\n",
    "    \n",
    "    # J'affiche le message \n",
    "    print(f\"The size of the shirt is {size} and the text is '{text}'.\")\n",
    "\n",
    "# j'appel la fonction\n",
    "make_shirt(\"large\", \"I love Python\")\n",
    "\n",
    "\n",
    "def make_shirt(size=\"large\", text=\"I love Python\"):\n",
    "    \n",
    "    print(f\"The size of the shirt is {size} and the text is '{text}'.\")\n",
    "\n",
    "# apl de la fonction avec des parametre aleatoire \n",
    "make_shirt()  \n",
    "make_shirt(\"medium\")\n",
    "make_shirt(\"small\", \"Custom message\")  \n",
    "\n",
    "\n",
    "make_shirt(size=\"small\", text=\"Hello!\")  \n"
   ]
  },
  {
   "cell_type": "markdown",
   "id": "d40c9191",
   "metadata": {},
   "source": [
    "Exercice 7 "
   ]
  },
  {
   "cell_type": "code",
   "execution_count": 43,
   "id": "94807e88",
   "metadata": {},
   "outputs": [],
   "source": [
    "\n",
    "import random\n",
    "\n",
    "def get_random_temp(month=None):\n",
    "    if month is not None:\n",
    "        \n",
    "        if month in [12, 1, 2]:  \n",
    "            return random.uniform(-10, 5)  \n",
    "        elif month in [3, 4, 5]: \n",
    "            return random.uniform(5, 20) \n",
    "        elif month in [6, 7, 8]: \n",
    "            return random.uniform(20, 35)  \n",
    "        elif month in [9, 10, 11]: \n",
    "            return random.uniform(5, 20)  \n",
    "    else:\n",
    "    \n",
    "        return random.uniform(-10, 40)\n",
    "\n",
    "\n",
    "def main():\n",
    "    month = int(input(\"Entrez le mois (1-12) : \"))  # Demander le mois à l'utilisateur\n",
    "    temperature = get_random_temp(month)  # Obtenir une température aléatoire\n",
    "    print(f\"La température actuelle est de {temperature:.1f} degrés Celsius.\")  # Afficher la température\n",
    "\n",
    "    # Étape 3 : Fournir des conseils basés sur la température\n",
    "    if temperature < 0:\n",
    "        print(\"Brrr, c'est gelé ! Mettez des couches supplémentaires aujourd'hui.\")\n",
    "    elif 0 <= temperature < 16:\n",
    "        print(\"Assez frais ! N'oubliez pas votre manteau.\")\n",
    "    elif 16 <= temperature < 23:\n",
    "        print(\"Beau temps.\")\n",
    "    elif 24 <= temperature < 32:\n",
    "        print(\"Un peu chaud, restez hydraté.\")\n",
    "    elif 32 <= temperature <= 40:\n",
    "        print(\"Il fait vraiment chaud ! Restez au frais.\")\n",
    "        \n",
    "        \n",
    "\n",
    "\n"
   ]
  }
 ],
 "metadata": {
  "kernelspec": {
   "display_name": "Python 3",
   "language": "python",
   "name": "python3"
  },
  "language_info": {
   "codemirror_mode": {
    "name": "ipython",
    "version": 3
   },
   "file_extension": ".py",
   "mimetype": "text/x-python",
   "name": "python",
   "nbconvert_exporter": "python",
   "pygments_lexer": "ipython3",
   "version": "3.13.2"
  }
 },
 "nbformat": 4,
 "nbformat_minor": 5
}
